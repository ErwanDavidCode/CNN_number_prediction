{
  "cells": [
    {
      "cell_type": "markdown",
      "metadata": {
        "collapsed": false,
        "id": "e8-zA0l1sGV2"
      },
      "source": [
        "### Import des libraries"
      ]
    },
    {
      "cell_type": "code",
      "execution_count": null,
      "metadata": {
        "collapsed": true,
        "id": "YgcJ-8Y9k9Cg"
      },
      "outputs": [],
      "source": [
        "import gdown\n",
        "import os\n",
        "\n",
        "import torch\n",
        "import torchvision\n",
        "import torchvision.transforms as transforms\n",
        "import torchvision.datasets as datasets\n",
        "\n",
        "import torch.nn as nn\n",
        "import torch.nn.functional as F\n",
        "\n",
        "import torch.optim as optim\n",
        "\n",
        "import matplotlib.pyplot as plt\n",
        "import numpy as np"
      ]
    },
    {
      "cell_type": "markdown",
      "metadata": {
        "collapsed": false,
        "id": "PvmX6HwcsGV9"
      },
      "source": [
        "### Téléchargement du dataset"
      ]
    },
    {
      "cell_type": "code",
      "execution_count": null,
      "metadata": {
        "id": "cmU-8xcMleEN"
      },
      "outputs": [],
      "source": [
        "#Téléchargement du dataset\n",
        "url = 'https://drive.google.com/uc?export=download&id=1baFagxAZlZ-EM4iraO9WVXoNqOxayq5g'\n",
        "output = 'dataset.zip'\n",
        "if not os.path.exists(output):\n",
        "    gdown.download(url, output, quiet=False)\n",
        "\n",
        "#Dézippage du dataset\n",
        "\n",
        "def unzip(zip_file, dest_dir):\n",
        "    import zipfile\n",
        "    with zipfile.ZipFile(zip_file, 'r') as zip_ref:\n",
        "        zip_ref.extractall(dest_dir)\n",
        "\n",
        "unzip('dataset.zip', './')"
      ]
    },
    {
      "cell_type": "markdown",
      "metadata": {
        "collapsed": false,
        "id": "tIdFhGRKsGV-"
      },
      "source": [
        "### Load le dataset"
      ]
    },
    {
      "cell_type": "code",
      "execution_count": null,
      "metadata": {
        "colab": {
          "base_uri": "https://localhost:8080/"
        },
        "id": "Qm6UDJ4Tk9Ck",
        "outputId": "38a32c2f-d953-4b0f-95c4-68b63b43c2a1"
      },
      "outputs": [],
      "source": [
        "X_train = np.load('customX_train.npy') # shape (16384, 28, 28, 3)\n",
        "Y_train = np.load('customY_train.npy')\n",
        "X_test = np.load('customX_test.npy')\n",
        "\n",
        "print(X_train.shape)\n",
        "print(Y_train.shape)\n",
        "print(X_test.shape)"
      ]
    },
    {
      "cell_type": "markdown",
      "metadata": {
        "collapsed": false,
        "id": "QTcN78-isGV-"
      },
      "source": [
        "### Encodage one hot"
      ]
    },
    {
      "cell_type": "code",
      "execution_count": null,
      "metadata": {
        "id": "6DxtNPZqoUz2"
      },
      "outputs": [],
      "source": [
        "# convert Y_train to one hot\n",
        "Y_train_onehot = Y_train\n",
        "#Y_train_onehot = np.zeros((len(Y_train), 10 ))\n",
        "#Y_train_onehot[np.arange(len(Y_train)), Y_train.astype(int)] = 1"
      ]
    },
    {
      "cell_type": "markdown",
      "metadata": {
        "collapsed": false,
        "id": "BzgkIwePsGV_"
      },
      "source": [
        "### Afficher les données"
      ]
    },
    {
      "cell_type": "code",
      "execution_count": null,
      "metadata": {
        "colab": {
          "base_uri": "https://localhost:8080/",
          "height": 428
        },
        "id": "5OI9Dy9ek9Ck",
        "outputId": "c2e6dcaa-4a12-44d7-c41f-2095f7d6dc5d"
      },
      "outputs": [],
      "source": [
        "for i in range(20):\n",
        "\tplt.subplot(5, 4, i + 1)\n",
        "\tplt.imshow(X_train[i])\n",
        "\tplt.title(Y_train[i])\n",
        "\tplt.axis('off')"
      ]
    },
    {
      "cell_type": "markdown",
      "metadata": {
        "collapsed": false,
        "id": "B7V-1gNRsGV_"
      },
      "source": [
        "### Préparation de l'entraînement. On va transformer les données en des batches de données."
      ]
    },
    {
      "cell_type": "code",
      "execution_count": null,
      "metadata": {
        "colab": {
          "base_uri": "https://localhost:8080/",
          "height": 423
        },
        "id": "OD0WfDHTAPWt",
        "outputId": "bec6ff12-f1c0-40e6-9130-279828ee492e"
      },
      "outputs": [],
      "source": [
        "#On met les img en noir et blanc\n",
        "#On essaie de mettre les mêmes fonds\n",
        "\n",
        "\n",
        "#Faire la moyenne sur la 3ème dimenison : X_TRAIN\n",
        "X_train_dim = []\n",
        "\n",
        "for image in X_train:\n",
        "    # Calculer la moyenne sur la troisième dimension (canal RVB)\n",
        "    image_moyenne_train = np.mean(image, axis=2).astype(np.uint8)\n",
        "    X_train_dim.append(image_moyenne_train)\n",
        "\n",
        "#Faire la moyenne sur la 3ème dimenison : X_TEST\n",
        "X_test_dim = []\n",
        "for image in X_test:\n",
        "    # Calculer la moyenne sur la troisième dimension (canal RVB)\n",
        "    image_moyenne_test = np.mean(image, axis=2).astype(np.uint8)\n",
        "    X_test_dim.append(image_moyenne_test)\n",
        "\n",
        "X_train = np.array(X_train_dim)\n",
        "X_test = np.array(X_test_dim)\n",
        "print(X_train.shape, X_test.shape)\n",
        "\n",
        "#On met tout sur le même fond\n",
        "L = []\n",
        "#TRAIN\n",
        "for i in range(len(X_train)):\n",
        "    #L.append(image[0,0])\n",
        "    pixel_train = X_train[i][0][0]\n",
        "    if pixel_train == 0:\n",
        "      X_train[i] = 255 - X_train[i]\n",
        "#TEST\n",
        "for i in range(len(X_test)):\n",
        "    #L.append(image[0,0])\n",
        "    pixel_test = X_test[i][0][0]\n",
        "    if pixel_test == 0:\n",
        "      X_test[i] = 255 - X_test[i]\n",
        "\n",
        "#AFFICHAGE TEST\n",
        "for i in range(20):\n",
        "\tplt.subplot(5, 4, i + 1)\n",
        "\tplt.imshow(X_test[100+i])\n",
        "\tplt.axis('off')"
      ]
    },
    {
      "cell_type": "code",
      "execution_count": null,
      "metadata": {
        "colab": {
          "base_uri": "https://localhost:8080/"
        },
        "id": "AApoVCxdk9Ck",
        "outputId": "a6d7de67-e1c8-4985-ca9a-f1d506958f83"
      },
      "outputs": [],
      "source": [
        "BATCH_SIZE = 64\n",
        "EPOCHS = 10\n",
        "\n",
        "# reshape to batch of BATCH_SIZE\n",
        "X_train = X_train.reshape(len(X_train)//BATCH_SIZE, BATCH_SIZE, 28, 28)\n",
        "Y_train_onehot = Y_train_onehot.reshape(len(Y_train_onehot)//BATCH_SIZE, BATCH_SIZE) #plus des onehot, j'ai juste gardé le nom\n",
        "\n",
        "print(X_train.shape)\n",
        "print(X_test.shape)\n",
        "print(Y_train_onehot.shape)"
      ]
    },
    {
      "cell_type": "markdown",
      "metadata": {
        "collapsed": false,
        "id": "zZ9EeZvFsGV_"
      },
      "source": [
        "### Convertir les vecteurs numpy en tenseur"
      ]
    },
    {
      "cell_type": "code",
      "execution_count": null,
      "metadata": {
        "colab": {
          "base_uri": "https://localhost:8080/"
        },
        "id": "-0gtHrHfk9Cl",
        "outputId": "3e789c47-b48a-41b5-9b6f-9ee5099c8bad"
      },
      "outputs": [],
      "source": [
        "X_train = torch.from_numpy(X_train).float()\n",
        "X_train = torch.unsqueeze(X_train, axis=2) #ajoute une dimension pour être de la forme (64, 1, 28, 28)\n",
        "\n",
        "Y_train_onehot = torch.from_numpy(Y_train_onehot).long() #long c'est des entiers\n",
        "\n",
        "X_test = torch.from_numpy(X_test).float()\n",
        "X_test = torch.unsqueeze(X_test, axis=1)\n",
        "print(X_test.shape)"
      ]
    },
    {
      "cell_type": "code",
      "execution_count": null,
      "metadata": {
        "colab": {
          "base_uri": "https://localhost:8080/"
        },
        "id": "Kqmd4HrnFLCE",
        "outputId": "d7733f75-aa50-4ee5-b3f3-05723cb10708"
      },
      "outputs": [],
      "source": [
        "X_train.shape"
      ]
    },
    {
      "cell_type": "markdown",
      "metadata": {
        "collapsed": false,
        "id": "gn8LpSPusGWA"
      },
      "source": [
        "### Définir le modèle."
      ]
    },
    {
      "cell_type": "code",
      "execution_count": null,
      "metadata": {
        "id": "IzcRF5XSk9Cl"
      },
      "outputs": [],
      "source": [
        "model = nn.Sequential(\n",
        "    #dim : (3, 28, 28)\n",
        "\n",
        "    nn.Conv2d(1, 64, 3),\n",
        "    nn.ReLU(),\n",
        "    #dim : (64, 26, 26)\n",
        "    nn.MaxPool2d(2),\n",
        "    #dim : (64, 13, 13)\n",
        "\n",
        "    nn.Conv2d(64, 128, 3),\n",
        "    nn.ReLU(),\n",
        "    #dim : (128, 11, 11)\n",
        "    nn.MaxPool2d(2),\n",
        "    #dim : (128, 5, 5)\n",
        "\n",
        "    nn.Flatten(),\n",
        "\n",
        "    nn.Linear(128 * 5 * 5, 32),\n",
        "    nn.ReLU(),\n",
        "    nn.Linear(32, 10))\n",
        "    #nn.Softmax())"
      ]
    },
    {
      "cell_type": "markdown",
      "metadata": {
        "collapsed": false,
        "id": "xcZkvUossGWA"
      },
      "source": [
        "### Définir la loss et l'optimizer."
      ]
    },
    {
      "cell_type": "code",
      "execution_count": null,
      "metadata": {
        "id": "6_gH7pcEk9Cl"
      },
      "outputs": [],
      "source": [
        "#loss_fn = nn.MSELoss()\n",
        "loss_fn = nn.CrossEntropyLoss()\n",
        "optimizer = torch.optim.Adam(model.parameters(), lr=1e-4)"
      ]
    },
    {
      "cell_type": "markdown",
      "metadata": {
        "collapsed": false,
        "id": "gCl5npF9sGWB"
      },
      "source": [
        "### Boucle d'entraînement."
      ]
    },
    {
      "cell_type": "code",
      "execution_count": null,
      "metadata": {
        "colab": {
          "base_uri": "https://localhost:8080/"
        },
        "id": "cBgi6gSYXcng",
        "outputId": "1b61b4ff-98a3-4020-d52d-e3561bc5e24b"
      },
      "outputs": [],
      "source": [
        "device = torch.device('cuda:0' if torch.cuda.is_available() else 'cpu')\n",
        "device"
      ]
    },
    {
      "cell_type": "code",
      "execution_count": null,
      "metadata": {
        "colab": {
          "base_uri": "https://localhost:8080/"
        },
        "id": "-gbM1Wqdk9Cm",
        "outputId": "1225623d-b06c-43a5-ea02-1d0a978b31a8"
      },
      "outputs": [],
      "source": [
        "#sur le GPU\n",
        "model.to(device)\n",
        "total = 0\n",
        "print(X_train.shape)\n",
        "# training loop\n",
        "for epoch in range(20):\n",
        "\tfor i, batch in enumerate(X_train):\n",
        "\t\t# forward pass\n",
        "\t\tbatch_GPU = batch.to(device)\n",
        "\n",
        "\t\tY_train_onehot_GPU = Y_train_onehot[i].to(device)\n",
        "\n",
        "\n",
        "\t\ty_pred = model(batch_GPU)\n",
        "\t\tloss = loss_fn(y_pred, Y_train_onehot_GPU)\n",
        "\n",
        "\t\t# backward pass\n",
        "\t\toptimizer.zero_grad()\n",
        "\t\tloss.backward()\n",
        "\t\toptimizer.step()\n",
        "\n",
        "\t\tpredicted = torch.argmax(y_pred, dim=1)\n",
        "\t\tdiff = predicted - Y_train_onehot_GPU\n",
        "\n",
        "\t\taccuracy = len(diff[diff==0]) / len(diff)\n",
        "\t\ttotal += Y_train_onehot_GPU.size(0)\n",
        "\n",
        "\t\tif i % 200 == 0:\n",
        "\t\t\t#print(y_pred.shape)\n",
        "\t\t\tprint(f'Epoch {epoch} Loss {loss.item()} Accuracy {accuracy}')"
      ]
    },
    {
      "cell_type": "markdown",
      "metadata": {
        "collapsed": false,
        "id": "iIYw2wz4sGWB"
      },
      "source": [
        "### Evaluer le modèle sur les données de test."
      ]
    },
    {
      "cell_type": "code",
      "execution_count": null,
      "metadata": {
        "colab": {
          "base_uri": "https://localhost:8080/"
        },
        "id": "OC8x0zoik9Cm",
        "outputId": "6fd37590-be33-45ee-8909-27877f211ea9"
      },
      "outputs": [],
      "source": [
        "# testing loop\n",
        "with torch.no_grad():\n",
        "\n",
        "\tX_test_GPU = X_test.to(device)\n",
        "\tcorrect = 0\n",
        "\ttotal = 0\n",
        "\ty_pred = model(X_test_GPU)\n",
        "\t_, predicted = torch.max(y_pred.data, 1)\n",
        "\n",
        "print(predicted)\n",
        "# save predictions to file as npy\n",
        "# np.save('customY_pred.npy', predicted.cpu().numpy())"
      ]
    },
    {
      "cell_type": "markdown",
      "metadata": {},
      "source": [
        "### Prédiction du modèle en image avec des éléments aléatoires de X_test"
      ]
    },
    {
      "cell_type": "code",
      "execution_count": null,
      "metadata": {},
      "outputs": [],
      "source": [
        "# Sélection aléatoire de 20 indices uniques dans X_test\n",
        "import random\n",
        "random_indices = random.sample(range(len(X_test)), 8)\n",
        "\n",
        "# Prédictions pour les 20 chiffres sélectionnés\n",
        "with torch.no_grad():\n",
        "    X_random_test = X_test[random_indices].to(device)\n",
        "    y_pred = model(X_random_test)\n",
        "    _, predicted_labels = torch.max(y_pred, 1)\n",
        "\n",
        "# Affichage des images et prédictions\n",
        "plt.figure(figsize=(10, 8))\n",
        "for i, idx in enumerate(random_indices):\n",
        "    plt.subplot(5, 4, i + 1)\n",
        "    plt.imshow(X_test[idx].cpu().squeeze().numpy(), cmap='gray')\n",
        "    plt.title(f\"Prediction: {predicted_labels[i].item()}\")\n",
        "    plt.axis('off')\n",
        "plt.show()"
      ]
    },
    {
      "cell_type": "markdown",
      "metadata": {
        "collapsed": false,
        "id": "2nZGDmY4sGWB"
      },
      "source": [
        "### Interaction avec le modèle\n",
        "\n",
        "## Cette section n'est executable que dans un Google colab !\n",
        "Modifiez `thickness`, `background_color`, `stroke_color` pour modifier l'épaisseur, la couleur du background, la couleur du chiffre.\n",
        "\n",
        "Double click sur le dessin pour faire la prédiction."
      ]
    },
    {
      "cell_type": "code",
      "execution_count": null,
      "metadata": {
        "colab": {
          "base_uri": "https://localhost:8080/",
          "height": 447
        },
        "id": "b6PK70E2k9Cm",
        "outputId": "fe585bb4-4a70-4119-bdab-73a9ca894e96"
      },
      "outputs": [],
      "source": [
        "from IPython.display import display, Javascript\n",
        "from google.colab.output import eval_js\n",
        "import numpy as np\n",
        "from PIL import Image\n",
        "from io import BytesIO\n",
        "import base64\n",
        "\n",
        "\n",
        "def draw_canvas():\n",
        "\t\"\"\"Create a canvas for user to draw a digit.\"\"\"\n",
        "\tdisplay(Javascript('''\n",
        "        async function createCanvas() {\n",
        "            const thickness = 20;\n",
        "            const background_color = \"rgb(255, 255, 255)\";\n",
        "            const stroke_color = \"rgb(0, 0, 0)\";\n",
        "\n",
        "            const div = document.createElement('div');\n",
        "            div.innerHTML = `<canvas id=\"canvas\" width=\"560\" height=\"560\" style=\"border:1px solid; cursor:crosshair;\"></canvas>`;\n",
        "            document.body.appendChild(div);\n",
        "\n",
        "            const canvas = div.querySelector('#canvas');\n",
        "            const ctx = canvas.getContext('2d');\n",
        "            ctx.lineWidth = thickness;\n",
        "            ctx.fillStyle = background_color;\n",
        "            ctx.fillRect(0, 0, canvas.width, canvas.height);\n",
        "            ctx.fillStyle = stroke_color;\n",
        "            ctx.strokeStyle = stroke_color;\n",
        "\n",
        "            let drawing = false;\n",
        "            canvas.addEventListener('mousedown', () => { drawing = true; });\n",
        "            canvas.addEventListener('mouseup', () => { drawing = false; ctx.beginPath(); });\n",
        "            canvas.addEventListener('mousemove', draw);\n",
        "\n",
        "            function draw(event) {\n",
        "                if (!drawing) return;\n",
        "                ctx.lineWidth = thickness;\n",
        "                ctx.lineCap = 'round';\n",
        "                ctx.fillStyle = stroke_color\n",
        "\n",
        "                ctx.lineTo(event.offsetX, event.offsetY);\n",
        "                ctx.stroke();\n",
        "                ctx.beginPath();\n",
        "                ctx.moveTo(event.offsetX, event.offsetY);\n",
        "            }\n",
        "\n",
        "            await new Promise(resolve => canvas.addEventListener('dblclick', () => {\n",
        "                const data = canvas.toDataURL('image/png');\n",
        "                div.remove();\n",
        "                resolve(data);\n",
        "            }));\n",
        "            return canvas.toDataURL('image/png');\n",
        "        }\n",
        "    '''))\n",
        "\treturn eval_js(\"createCanvas()\")\n",
        "\n",
        "\n",
        "image_uri = draw_canvas()\n",
        "image_uri = image_uri.split(\",\")[1]\n",
        "image = Image.open(BytesIO(base64.b64decode(image_uri))).convert(\"RGB\").resize((28, 28))\n",
        "image = np.array(image, dtype=int)\n",
        "\n",
        "import matplotlib.pyplot as plt\n",
        "plt.imshow(image)\n",
        "plt.show()\n",
        "\n",
        "image = np.mean(image, axis=2).astype(np.uint8)\n",
        "# prediction\n",
        "#image = np.transpose(image, (0, 3, 1, 2))\n",
        "image = torch.from_numpy(image).float()\n",
        "image = torch.unsqueeze(image, axis=0)\n",
        "image = torch.unsqueeze(image, axis=0) #car batch de taille 1\n",
        "\n",
        "with torch.no_grad():\n",
        "\ty_pred = model(image.to(device))\n",
        "\t_, predicted = torch.max(y_pred.data, 1)\n",
        "\tprint(\"Prédiction du modèle:\", predicted.item())"
      ]
    },
    {
      "cell_type": "markdown",
      "metadata": {
        "id": "zZPkeYEnZoKv"
      },
      "source": [
        "**Différentes améliorations du réseau:**\n",
        "\n",
        "Réseaux normal\n",
        "\n",
        "Réseau convolutif\n",
        "\n",
        "Changement de Loss\n",
        "\n",
        "Images en noires et blancs\n",
        "\n",
        "Le fond des images toutes en blanche"
      ]
    }
  ],
  "metadata": {
    "accelerator": "GPU",
    "colab": {
      "provenance": []
    },
    "kernelspec": {
      "display_name": "Python 3",
      "name": "python3"
    },
    "language_info": {
      "codemirror_mode": {
        "name": "ipython",
        "version": 3
      },
      "file_extension": ".py",
      "mimetype": "text/x-python",
      "name": "python",
      "nbconvert_exporter": "python",
      "pygments_lexer": "ipython3",
      "version": "3.11.5"
    }
  },
  "nbformat": 4,
  "nbformat_minor": 0
}
